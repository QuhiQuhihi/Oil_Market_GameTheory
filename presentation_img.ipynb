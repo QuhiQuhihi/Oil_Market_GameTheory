{
 "cells": [
  {
   "cell_type": "code",
   "execution_count": null,
   "metadata": {},
   "outputs": [],
   "source": [
    "import os\n",
    "import sys\n",
    "import random\n",
    "import itertools"
   ]
  },
  {
   "cell_type": "code",
   "execution_count": null,
   "metadata": {},
   "outputs": [],
   "source": [
    "def prisoner_dilemma(player1_decision, player2_decision):\n",
    "    if player1_decision == 'betray' and player2_decision == 'betray':\n",
    "        return (+3, +3)\n",
    "    elif player1_decision == 'betray' and player2_decision == 'cooperate':\n",
    "        return (-2, 0)\n",
    "    elif player1_decision == 'cooperate' and player2_decision == 'betray':\n",
    "        return (0, -1)\n",
    "    elif player1_decision == 'cooperate' and player2_decision == 'cooperate':\n",
    "        return (0, 0)\n",
    "    else:\n",
    "        return None\n",
    "\n",
    "def play_round_probability(prob_betray1, prob_betray2):\n",
    "    decision1 = 'cooperate' if random.random() < prob_betray1 else 'cooperate'\n",
    "    decision2 = 'cooperate' if random.random() < prob_betray2 else 'cooperate'\n",
    "    return decision1, decision2\n",
    "\n",
    "def simulate_large_prisoner_dilemma(prob_betray1, prob_betray2, iterations=1_000_000):\n",
    "    total_payoff1, total_payoff2 = 0, 0\n",
    "\n",
    "    for _ in range(iterations):\n",
    "        player1_decision, player2_decision = play_round_probability(prob_betray1, prob_betray2)\n",
    "        payoff1, payoff2 = prisoner_dilemma(player1_decision, player2_decision)\n",
    "\n",
    "        # Update total payoffs\n",
    "        total_payoff1 += payoff1\n",
    "        total_payoff2 += payoff2\n",
    "\n",
    "    return total_payoff1, total_payoff2\n",
    "\n",
    "def is_nash_equilibrium(prob_betray1, prob_betray2, iterations=1_000_000):\n",
    "    total_payoff1, total_payoff2 = simulate_large_prisoner_dilemma(prob_betray1, prob_betray2, iterations)\n",
    "    prob_delta = 0.01\n",
    "    prob_betray1, prob_betray2 = prob_betray1 + prob_delta* random.random(), prob_betray2 + prob_delta* random.random()\n",
    "    \n",
    "    alternative_payoff1, _ = simulate_large_prisoner_dilemma(1 - prob_betray1, prob_betray2, iterations)\n",
    "    if alternative_payoff1 > total_payoff1:\n",
    "        print(\"player1 cooperate, player2 betray\")\n",
    "        print(\"player1 payoff = \",alternative_payoff2, \" player2 payoff= \", _)\n",
    "        return False\n",
    "\n",
    "    _, alternative_payoff2 = simulate_large_prisoner_dilemma(prob_betray1, 1 - prob_betray2, iterations)\n",
    "    if alternative_payoff2 > total_payoff2:\n",
    "        print(\"player1 betray, player2 cooperate\")\n",
    "        print(\"player1 payoff = \",_, \" player2 payoff= \", alternative_payoff2)\n",
    "        return False\n",
    "    return True"
   ]
  }
 ],
 "metadata": {
  "language_info": {
   "name": "python"
  }
 },
 "nbformat": 4,
 "nbformat_minor": 2
}
